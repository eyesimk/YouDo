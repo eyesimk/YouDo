{
 "cells": [
  {
   "cell_type": "markdown",
   "metadata": {},
   "source": [
    "# Trendyol Bootcamp Capstone: Fashion Recommendation"
   ]
  },
  {
   "cell_type": "markdown",
   "metadata": {},
   "source": [
    "### CONTENT\n",
    "* **Data Exploration & Preperation**\n",
    "    * Customers\n",
    "    * Transactions\n",
    "    * Articles\n",
    "#\n",
    "* **Hybrid LightFM Model**\n",
    "    * Features\n",
    "    * Dataset\n",
    "    * Train-Test Split\n",
    "    * Model fit\n",
    "    * Evaluation \n",
    "#\n",
    "* **Pure CF LightFM Model**\n",
    "    * Model fit\n",
    "    * Evaluation\n"
   ]
  },
  {
   "cell_type": "code",
   "execution_count": 1,
   "metadata": {},
   "outputs": [],
   "source": [
    "import pandas as pd\n",
    "import numpy as np\n",
    "import matplotlib "
   ]
  },
  {
   "cell_type": "code",
   "execution_count": 193,
   "metadata": {},
   "outputs": [],
   "source": [
    "articles = pd.read_csv(\"data/articles.csv\")\n",
    "customers = pd.read_csv(\"data/customers.csv\")\n",
    "transactions = pd.read_csv(\"data/transactions.csv\")"
   ]
  },
  {
   "cell_type": "code",
   "execution_count": 194,
   "metadata": {},
   "outputs": [
    {
     "name": "stdout",
     "output_type": "stream",
     "text": [
      "Articles shape:  (105542, 25)\n",
      "Customers shape:  (1371980, 4)\n",
      "Transactions shape:  (31788324, 5)\n"
     ]
    }
   ],
   "source": [
    "print(\"Articles shape: \", articles.shape)\n",
    "print(\"Customers shape: \", customers.shape)\n",
    "print(\"Transactions shape: \", transactions.shape)"
   ]
  },
  {
   "cell_type": "markdown",
   "metadata": {},
   "source": [
    "### Data Exploration & Preperation"
   ]
  },
  {
   "cell_type": "markdown",
   "metadata": {},
   "source": [
    "##### Customers"
   ]
  },
  {
   "cell_type": "code",
   "execution_count": 195,
   "metadata": {},
   "outputs": [
    {
     "data": {
      "text/html": [
       "<div>\n",
       "<style scoped>\n",
       "    .dataframe tbody tr th:only-of-type {\n",
       "        vertical-align: middle;\n",
       "    }\n",
       "\n",
       "    .dataframe tbody tr th {\n",
       "        vertical-align: top;\n",
       "    }\n",
       "\n",
       "    .dataframe thead th {\n",
       "        text-align: right;\n",
       "    }\n",
       "</style>\n",
       "<table border=\"1\" class=\"dataframe\">\n",
       "  <thead>\n",
       "    <tr style=\"text-align: right;\">\n",
       "      <th></th>\n",
       "      <th>customer_id</th>\n",
       "      <th>club_member_status</th>\n",
       "      <th>fashion_news_frequency</th>\n",
       "      <th>age</th>\n",
       "    </tr>\n",
       "  </thead>\n",
       "  <tbody>\n",
       "    <tr>\n",
       "      <th>0</th>\n",
       "      <td>00000dbacae5abe5e23885899a1fa44253a17956c6d1c3...</td>\n",
       "      <td>ACTIVE</td>\n",
       "      <td>NONE</td>\n",
       "      <td>49.0</td>\n",
       "    </tr>\n",
       "    <tr>\n",
       "      <th>1</th>\n",
       "      <td>0000423b00ade91418cceaf3b26c6af3dd342b51fd051e...</td>\n",
       "      <td>ACTIVE</td>\n",
       "      <td>NONE</td>\n",
       "      <td>25.0</td>\n",
       "    </tr>\n",
       "    <tr>\n",
       "      <th>2</th>\n",
       "      <td>000058a12d5b43e67d225668fa1f8d618c13dc232df0ca...</td>\n",
       "      <td>ACTIVE</td>\n",
       "      <td>NONE</td>\n",
       "      <td>24.0</td>\n",
       "    </tr>\n",
       "    <tr>\n",
       "      <th>3</th>\n",
       "      <td>00005ca1c9ed5f5146b52ac8639a40ca9d57aeff4d1bd2...</td>\n",
       "      <td>ACTIVE</td>\n",
       "      <td>NONE</td>\n",
       "      <td>54.0</td>\n",
       "    </tr>\n",
       "    <tr>\n",
       "      <th>4</th>\n",
       "      <td>00006413d8573cd20ed7128e53b7b13819fe5cfc2d801f...</td>\n",
       "      <td>ACTIVE</td>\n",
       "      <td>Regularly</td>\n",
       "      <td>52.0</td>\n",
       "    </tr>\n",
       "  </tbody>\n",
       "</table>\n",
       "</div>"
      ],
      "text/plain": [
       "                                         customer_id club_member_status  \\\n",
       "0  00000dbacae5abe5e23885899a1fa44253a17956c6d1c3...             ACTIVE   \n",
       "1  0000423b00ade91418cceaf3b26c6af3dd342b51fd051e...             ACTIVE   \n",
       "2  000058a12d5b43e67d225668fa1f8d618c13dc232df0ca...             ACTIVE   \n",
       "3  00005ca1c9ed5f5146b52ac8639a40ca9d57aeff4d1bd2...             ACTIVE   \n",
       "4  00006413d8573cd20ed7128e53b7b13819fe5cfc2d801f...             ACTIVE   \n",
       "\n",
       "  fashion_news_frequency   age  \n",
       "0                   NONE  49.0  \n",
       "1                   NONE  25.0  \n",
       "2                   NONE  24.0  \n",
       "3                   NONE  54.0  \n",
       "4              Regularly  52.0  "
      ]
     },
     "execution_count": 195,
     "metadata": {},
     "output_type": "execute_result"
    }
   ],
   "source": [
    "customers.head()"
   ]
  },
  {
   "cell_type": "code",
   "execution_count": 196,
   "metadata": {},
   "outputs": [
    {
     "data": {
      "text/plain": [
       "NONE         877711\n",
       "Regularly    477416\n",
       "NaN           16009\n",
       "Monthly         842\n",
       "None              2\n",
       "Name: fashion_news_frequency, dtype: int64"
      ]
     },
     "execution_count": 196,
     "metadata": {},
     "output_type": "execute_result"
    }
   ],
   "source": [
    "customers['fashion_news_frequency'].value_counts(dropna=False)"
   ]
  },
  {
   "cell_type": "code",
   "execution_count": 197,
   "metadata": {},
   "outputs": [
    {
     "data": {
      "text/plain": [
       "None         893722\n",
       "Regularly    478258\n",
       "Name: fashion_news_frequency, dtype: int64"
      ]
     },
     "execution_count": 197,
     "metadata": {},
     "output_type": "execute_result"
    }
   ],
   "source": [
    "# None converted to NONE, Monthly converted to Regularly, NaN converted to None\n",
    "\n",
    "customers['fashion_news_frequency'] = customers['fashion_news_frequency'].replace(['NONE'],'None')\n",
    "customers['fashion_news_frequency'] = customers['fashion_news_frequency'].replace(['Monthly'],'Regularly')\n",
    "customers['fashion_news_frequency'].fillna('None', inplace=True)\n",
    "\n",
    "customers.fashion_news_frequency.value_counts(dropna=False)\n"
   ]
  },
  {
   "cell_type": "code",
   "execution_count": 198,
   "metadata": {},
   "outputs": [
    {
     "data": {
      "text/plain": [
       "ACTIVE        1272491\n",
       "PRE-CREATE      92960\n",
       "NaN              6062\n",
       "LEFT CLUB         467\n",
       "Name: club_member_status, dtype: int64"
      ]
     },
     "execution_count": 198,
     "metadata": {},
     "output_type": "execute_result"
    }
   ],
   "source": [
    "customers['club_member_status'].value_counts(dropna=False)"
   ]
  },
  {
   "cell_type": "code",
   "execution_count": 199,
   "metadata": {},
   "outputs": [
    {
     "data": {
      "text/plain": [
       "ACTIVE        1278553\n",
       "PRE-CREATE      92960\n",
       "LEFT CLUB         467\n",
       "Name: club_member_status, dtype: int64"
      ]
     },
     "execution_count": 199,
     "metadata": {},
     "output_type": "execute_result"
    }
   ],
   "source": [
    "# NaN converted to ACTIVE\n",
    "\n",
    "customers['club_member_status'].fillna('ACTIVE', inplace=True)\n",
    "customers.club_member_status.value_counts(dropna=False)\n"
   ]
  },
  {
   "cell_type": "code",
   "execution_count": 200,
   "metadata": {},
   "outputs": [
    {
     "data": {
      "text/plain": [
       "<AxesSubplot:>"
      ]
     },
     "execution_count": 200,
     "metadata": {},
     "output_type": "execute_result"
    },
    {
     "data": {
      "image/png": "[encoded data removed]",
      "text/plain": [
       "<Figure size 432x288 with 1 Axes>"
      ]
     },
     "metadata": {
      "needs_background": "light"
     },
     "output_type": "display_data"
    }
   ],
   "source": [
    "customers.age.hist(bins=50)"
   ]
  },
  {
   "cell_type": "code",
   "execution_count": 201,
   "metadata": {},
   "outputs": [],
   "source": [
    "customers.loc[(customers['age'] < 26),  'age_group'] = '16-25'\n",
    "customers.loc[((customers['age'] > 25) & (customers['age'] < 46)),  'age_group'] = '26-45'\n",
    "customers.loc[((customers['age'] > 45) & (customers['age'] < 66)),  'age_group'] = '46-65'\n",
    "customers.loc[((customers['age'] > 65) & (customers['age'] < 100)),  'age_group'] = '66-100'\n",
    "customers = customers.drop(['age'], axis=1)"
   ]
  },
  {
   "cell_type": "code",
   "execution_count": 202,
   "metadata": {},
   "outputs": [
    {
     "data": {
      "text/plain": [
       "<AxesSubplot:>"
      ]
     },
     "execution_count": 202,
     "metadata": {},
     "output_type": "execute_result"
    },
    {
     "data": {
      "image/png": "[encoded data removed]",
      "text/plain": [
       "<Figure size 432x288 with 1 Axes>"
      ]
     },
     "metadata": {
      "needs_background": "light"
     },
     "output_type": "display_data"
    }
   ],
   "source": [
    "customers.age_group.hist()"
   ]
  },
  {
   "cell_type": "markdown",
   "metadata": {},
   "source": [
    "##### Transactions"
   ]
  },
  {
   "cell_type": "code",
   "execution_count": 11,
   "metadata": {},
   "outputs": [
    {
     "data": {
      "text/html": [
       "<div>\n",
       "<style scoped>\n",
       "    .dataframe tbody tr th:only-of-type {\n",
       "        vertical-align: middle;\n",
       "    }\n",
       "\n",
       "    .dataframe tbody tr th {\n",
       "        vertical-align: top;\n",
       "    }\n",
       "\n",
       "    .dataframe thead th {\n",
       "        text-align: right;\n",
       "    }\n",
       "</style>\n",
       "<table border=\"1\" class=\"dataframe\">\n",
       "  <thead>\n",
       "    <tr style=\"text-align: right;\">\n",
       "      <th></th>\n",
       "      <th>t_dat</th>\n",
       "      <th>customer_id</th>\n",
       "      <th>article_id</th>\n",
       "      <th>price</th>\n",
       "      <th>sales_channel_id</th>\n",
       "    </tr>\n",
       "  </thead>\n",
       "  <tbody>\n",
       "    <tr>\n",
       "      <th>0</th>\n",
       "      <td>2018-09-20</td>\n",
       "      <td>000058a12d5b43e67d225668fa1f8d618c13dc232df0ca...</td>\n",
       "      <td>663713001</td>\n",
       "      <td>0.050831</td>\n",
       "      <td>2</td>\n",
       "    </tr>\n",
       "    <tr>\n",
       "      <th>1</th>\n",
       "      <td>2018-09-20</td>\n",
       "      <td>000058a12d5b43e67d225668fa1f8d618c13dc232df0ca...</td>\n",
       "      <td>541518023</td>\n",
       "      <td>0.030492</td>\n",
       "      <td>2</td>\n",
       "    </tr>\n",
       "    <tr>\n",
       "      <th>2</th>\n",
       "      <td>2018-09-20</td>\n",
       "      <td>00007d2de826758b65a93dd24ce629ed66842531df6699...</td>\n",
       "      <td>505221004</td>\n",
       "      <td>0.015237</td>\n",
       "      <td>2</td>\n",
       "    </tr>\n",
       "    <tr>\n",
       "      <th>3</th>\n",
       "      <td>2018-09-20</td>\n",
       "      <td>00007d2de826758b65a93dd24ce629ed66842531df6699...</td>\n",
       "      <td>685687003</td>\n",
       "      <td>0.016932</td>\n",
       "      <td>2</td>\n",
       "    </tr>\n",
       "    <tr>\n",
       "      <th>4</th>\n",
       "      <td>2018-09-20</td>\n",
       "      <td>00007d2de826758b65a93dd24ce629ed66842531df6699...</td>\n",
       "      <td>685687004</td>\n",
       "      <td>0.016932</td>\n",
       "      <td>2</td>\n",
       "    </tr>\n",
       "  </tbody>\n",
       "</table>\n",
       "</div>"
      ],
      "text/plain": [
       "        t_dat                                        customer_id  article_id  \\\n",
       "0  2018-09-20  000058a12d5b43e67d225668fa1f8d618c13dc232df0ca...   663713001   \n",
       "1  2018-09-20  000058a12d5b43e67d225668fa1f8d618c13dc232df0ca...   541518023   \n",
       "2  2018-09-20  00007d2de826758b65a93dd24ce629ed66842531df6699...   505221004   \n",
       "3  2018-09-20  00007d2de826758b65a93dd24ce629ed66842531df6699...   685687003   \n",
       "4  2018-09-20  00007d2de826758b65a93dd24ce629ed66842531df6699...   685687004   \n",
       "\n",
       "      price  sales_channel_id  \n",
       "0  0.050831                 2  \n",
       "1  0.030492                 2  \n",
       "2  0.015237                 2  \n",
       "3  0.016932                 2  \n",
       "4  0.016932                 2  "
      ]
     },
     "execution_count": 11,
     "metadata": {},
     "output_type": "execute_result"
    }
   ],
   "source": [
    "transactions.head()"
   ]
  },
  {
   "cell_type": "code",
   "execution_count": 12,
   "metadata": {},
   "outputs": [
    {
     "data": {
      "text/plain": [
       "2    22379862\n",
       "1     9408462\n",
       "Name: sales_channel_id, dtype: int64"
      ]
     },
     "execution_count": 12,
     "metadata": {},
     "output_type": "execute_result"
    }
   ],
   "source": [
    "transactions.sales_channel_id.value_counts()"
   ]
  },
  {
   "cell_type": "code",
   "execution_count": 13,
   "metadata": {},
   "outputs": [
    {
     "name": "stdout",
     "output_type": "stream",
     "text": [
      "Start Date: 2018-09-20\n",
      "End Date: 2020-09-22\n"
     ]
    }
   ],
   "source": [
    "print(f\"Start Date: {transactions.t_dat.min()}\\nEnd Date: {transactions.t_dat.max()}\")"
   ]
  },
  {
   "cell_type": "markdown",
   "metadata": {},
   "source": [
    "##### Articles"
   ]
  },
  {
   "cell_type": "code",
   "execution_count": 14,
   "metadata": {},
   "outputs": [
    {
     "data": {
      "text/html": [
       "<div>\n",
       "<style scoped>\n",
       "    .dataframe tbody tr th:only-of-type {\n",
       "        vertical-align: middle;\n",
       "    }\n",
       "\n",
       "    .dataframe tbody tr th {\n",
       "        vertical-align: top;\n",
       "    }\n",
       "\n",
       "    .dataframe thead th {\n",
       "        text-align: right;\n",
       "    }\n",
       "</style>\n",
       "<table border=\"1\" class=\"dataframe\">\n",
       "  <thead>\n",
       "    <tr style=\"text-align: right;\">\n",
       "      <th></th>\n",
       "      <th>0</th>\n",
       "      <th>1</th>\n",
       "    </tr>\n",
       "  </thead>\n",
       "  <tbody>\n",
       "    <tr>\n",
       "      <th>article_id</th>\n",
       "      <td>108775015</td>\n",
       "      <td>108775044</td>\n",
       "    </tr>\n",
       "    <tr>\n",
       "      <th>product_code</th>\n",
       "      <td>108775</td>\n",
       "      <td>108775</td>\n",
       "    </tr>\n",
       "    <tr>\n",
       "      <th>prod_name</th>\n",
       "      <td>Strap top</td>\n",
       "      <td>Strap top</td>\n",
       "    </tr>\n",
       "    <tr>\n",
       "      <th>product_type_no</th>\n",
       "      <td>253</td>\n",
       "      <td>253</td>\n",
       "    </tr>\n",
       "    <tr>\n",
       "      <th>product_type_name</th>\n",
       "      <td>Vest top</td>\n",
       "      <td>Vest top</td>\n",
       "    </tr>\n",
       "    <tr>\n",
       "      <th>product_group_name</th>\n",
       "      <td>Garment Upper body</td>\n",
       "      <td>Garment Upper body</td>\n",
       "    </tr>\n",
       "    <tr>\n",
       "      <th>graphical_appearance_no</th>\n",
       "      <td>1010016</td>\n",
       "      <td>1010016</td>\n",
       "    </tr>\n",
       "    <tr>\n",
       "      <th>graphical_appearance_name</th>\n",
       "      <td>Solid</td>\n",
       "      <td>Solid</td>\n",
       "    </tr>\n",
       "    <tr>\n",
       "      <th>colour_group_code</th>\n",
       "      <td>9</td>\n",
       "      <td>10</td>\n",
       "    </tr>\n",
       "    <tr>\n",
       "      <th>colour_group_name</th>\n",
       "      <td>Black</td>\n",
       "      <td>White</td>\n",
       "    </tr>\n",
       "    <tr>\n",
       "      <th>perceived_colour_value_id</th>\n",
       "      <td>4</td>\n",
       "      <td>3</td>\n",
       "    </tr>\n",
       "    <tr>\n",
       "      <th>perceived_colour_value_name</th>\n",
       "      <td>Dark</td>\n",
       "      <td>Light</td>\n",
       "    </tr>\n",
       "    <tr>\n",
       "      <th>perceived_colour_master_id</th>\n",
       "      <td>5</td>\n",
       "      <td>9</td>\n",
       "    </tr>\n",
       "    <tr>\n",
       "      <th>perceived_colour_master_name</th>\n",
       "      <td>Black</td>\n",
       "      <td>White</td>\n",
       "    </tr>\n",
       "    <tr>\n",
       "      <th>department_no</th>\n",
       "      <td>1676</td>\n",
       "      <td>1676</td>\n",
       "    </tr>\n",
       "    <tr>\n",
       "      <th>department_name</th>\n",
       "      <td>Jersey Basic</td>\n",
       "      <td>Jersey Basic</td>\n",
       "    </tr>\n",
       "    <tr>\n",
       "      <th>index_code</th>\n",
       "      <td>A</td>\n",
       "      <td>A</td>\n",
       "    </tr>\n",
       "    <tr>\n",
       "      <th>index_name</th>\n",
       "      <td>Ladieswear</td>\n",
       "      <td>Ladieswear</td>\n",
       "    </tr>\n",
       "    <tr>\n",
       "      <th>index_group_no</th>\n",
       "      <td>1</td>\n",
       "      <td>1</td>\n",
       "    </tr>\n",
       "    <tr>\n",
       "      <th>index_group_name</th>\n",
       "      <td>Ladieswear</td>\n",
       "      <td>Ladieswear</td>\n",
       "    </tr>\n",
       "    <tr>\n",
       "      <th>section_no</th>\n",
       "      <td>16</td>\n",
       "      <td>16</td>\n",
       "    </tr>\n",
       "    <tr>\n",
       "      <th>section_name</th>\n",
       "      <td>Womens Everyday Basics</td>\n",
       "      <td>Womens Everyday Basics</td>\n",
       "    </tr>\n",
       "    <tr>\n",
       "      <th>garment_group_no</th>\n",
       "      <td>1002</td>\n",
       "      <td>1002</td>\n",
       "    </tr>\n",
       "    <tr>\n",
       "      <th>garment_group_name</th>\n",
       "      <td>Jersey Basic</td>\n",
       "      <td>Jersey Basic</td>\n",
       "    </tr>\n",
       "    <tr>\n",
       "      <th>detail_desc</th>\n",
       "      <td>Jersey top with narrow shoulder straps.</td>\n",
       "      <td>Jersey top with narrow shoulder straps.</td>\n",
       "    </tr>\n",
       "  </tbody>\n",
       "</table>\n",
       "</div>"
      ],
      "text/plain": [
       "                                                                    0  \\\n",
       "article_id                                                  108775015   \n",
       "product_code                                                   108775   \n",
       "prod_name                                                   Strap top   \n",
       "product_type_no                                                   253   \n",
       "product_type_name                                            Vest top   \n",
       "product_group_name                                 Garment Upper body   \n",
       "graphical_appearance_no                                       1010016   \n",
       "graphical_appearance_name                                       Solid   \n",
       "colour_group_code                                                   9   \n",
       "colour_group_name                                               Black   \n",
       "perceived_colour_value_id                                           4   \n",
       "perceived_colour_value_name                                      Dark   \n",
       "perceived_colour_master_id                                          5   \n",
       "perceived_colour_master_name                                    Black   \n",
       "department_no                                                    1676   \n",
       "department_name                                          Jersey Basic   \n",
       "index_code                                                          A   \n",
       "index_name                                                 Ladieswear   \n",
       "index_group_no                                                      1   \n",
       "index_group_name                                           Ladieswear   \n",
       "section_no                                                         16   \n",
       "section_name                                   Womens Everyday Basics   \n",
       "garment_group_no                                                 1002   \n",
       "garment_group_name                                       Jersey Basic   \n",
       "detail_desc                   Jersey top with narrow shoulder straps.   \n",
       "\n",
       "                                                                    1  \n",
       "article_id                                                  108775044  \n",
       "product_code                                                   108775  \n",
       "prod_name                                                   Strap top  \n",
       "product_type_no                                                   253  \n",
       "product_type_name                                            Vest top  \n",
       "product_group_name                                 Garment Upper body  \n",
       "graphical_appearance_no                                       1010016  \n",
       "graphical_appearance_name                                       Solid  \n",
       "colour_group_code                                                  10  \n",
       "colour_group_name                                               White  \n",
       "perceived_colour_value_id                                           3  \n",
       "perceived_colour_value_name                                     Light  \n",
       "perceived_colour_master_id                                          9  \n",
       "perceived_colour_master_name                                    White  \n",
       "department_no                                                    1676  \n",
       "department_name                                          Jersey Basic  \n",
       "index_code                                                          A  \n",
       "index_name                                                 Ladieswear  \n",
       "index_group_no                                                      1  \n",
       "index_group_name                                           Ladieswear  \n",
       "section_no                                                         16  \n",
       "section_name                                   Womens Everyday Basics  \n",
       "garment_group_no                                                 1002  \n",
       "garment_group_name                                       Jersey Basic  \n",
       "detail_desc                   Jersey top with narrow shoulder straps.  "
      ]
     },
     "execution_count": 14,
     "metadata": {},
     "output_type": "execute_result"
    }
   ],
   "source": [
    "articles.head(2).T"
   ]
  },
  {
   "cell_type": "code",
   "execution_count": 15,
   "metadata": {},
   "outputs": [
    {
     "data": {
      "text/plain": [
       "Garment Upper body       42741\n",
       "Garment Lower body       19812\n",
       "Garment Full body        13292\n",
       "Accessories              11158\n",
       "Underwear                 5490\n",
       "Shoes                     5283\n",
       "Swimwear                  3127\n",
       "Socks & Tights            2442\n",
       "Nightwear                 1899\n",
       "Unknown                    121\n",
       "Underwear/nightwear         54\n",
       "Cosmetic                    49\n",
       "Bags                        25\n",
       "Items                       17\n",
       "Furniture                   13\n",
       "Garment and Shoe care        9\n",
       "Stationery                   5\n",
       "Interior textile             3\n",
       "Fun                          2\n",
       "Name: product_group_name, dtype: int64"
      ]
     },
     "execution_count": 15,
     "metadata": {},
     "output_type": "execute_result"
    }
   ],
   "source": [
    "articles.product_group_name.value_counts()"
   ]
  },
  {
   "cell_type": "code",
   "execution_count": null,
   "metadata": {},
   "outputs": [],
   "source": [
    "# [ \"product_group_name\", \"perceived_colour_master\", \"department_name\", \"index_group_name\"]"
   ]
  },
  {
   "cell_type": "code",
   "execution_count": 16,
   "metadata": {},
   "outputs": [],
   "source": [
    "articles[\"new_product_group\"] = articles[\"product_group_name\"]\n",
    "\n",
    "articles.loc[articles['product_group_name'] == \"Underwear/nightwear\", 'new_product_group'] = \"Underwear\"\n",
    "\n",
    "articles.loc[articles['product_group_name'] == \"Cosmetic\", 'new_product_group'] = \"Accessories\"\n",
    "articles.loc[articles['product_group_name'] == \"Bags\", 'new_product_group'] = \"Accessories\"\n",
    "\n",
    "articles.loc[articles['product_group_name'] == \"Garment and Shoe care\", 'new_product_group'] = \"Shoes\"\n",
    "\n",
    "articles.loc[articles['product_group_name'] == \"Items\", 'new_product_group'] = \"Other\"\n",
    "articles.loc[articles['product_group_name'] == \"Furniture\", 'new_product_group'] = \"Other\"\n",
    "articles.loc[articles['product_group_name'] == \"Interior textile\", 'new_product_group'] = \"Other\"\n",
    "articles.loc[articles['product_group_name'] == \"Stationery\", 'new_product_group'] = \"Other\"\n",
    "articles.loc[articles['product_group_name'] == \"Fun\", 'new_product_group'] = \"Other\"\n",
    "articles.loc[articles['product_group_name'] == \"Unknown\", 'new_product_group'] = \"Other\""
   ]
  },
  {
   "cell_type": "code",
   "execution_count": 17,
   "metadata": {},
   "outputs": [
    {
     "data": {
      "text/plain": [
       "Black           22585\n",
       "Blue            18469\n",
       "White           12665\n",
       "Grey            12327\n",
       "Pink             9403\n",
       "Green            6715\n",
       "Red              5878\n",
       "Beige            5657\n",
       "Yellow           3121\n",
       "Orange           2734\n",
       "Brown            2269\n",
       "Turquoise        1829\n",
       "Lilac Purple     1100\n",
       "Unknown           790\n",
       "Name: new_colors, dtype: int64"
      ]
     },
     "execution_count": 17,
     "metadata": {},
     "output_type": "execute_result"
    }
   ],
   "source": [
    "articles[\"new_colors\"] = articles['perceived_colour_master_name'] \n",
    "\n",
    "articles.loc[articles['perceived_colour_master_name'] == \"Khaki green\", 'new_colors'] = \"Green\"\n",
    "articles.loc[articles['perceived_colour_master_name'] == \"Yellowish Green\", 'new_colors'] = \"Green\"\n",
    "articles.loc[articles['perceived_colour_master_name'] == \"Bluish Green\", 'new_colors'] = \"Green\"\n",
    "\n",
    "articles.loc[articles['perceived_colour_master_name'] == \"Metal\", 'new_colors'] = \"Grey\"\n",
    "articles.loc[articles['perceived_colour_master_name'] == \"Mole\", 'new_colors'] = \"Grey\"\n",
    "\n",
    "articles.loc[articles['perceived_colour_master_name'] == \"undefined\", 'new_colors'] = \"Unknown\"\n",
    "\n",
    "\n",
    "articles.new_colors.value_counts()"
   ]
  },
  {
   "cell_type": "code",
   "execution_count": 21,
   "metadata": {},
   "outputs": [],
   "source": [
    "customers[\"numeric_customer_id\"] = customers.index"
   ]
  },
  {
   "cell_type": "code",
   "execution_count": 23,
   "metadata": {},
   "outputs": [],
   "source": [
    "df_merge = customers.merge(\n",
    "    transactions, how='left',\n",
    "    left_on='customer_id', right_on='customer_id')"
   ]
  },
  {
   "cell_type": "markdown",
   "metadata": {},
   "source": [
    "### Hybrid LightFM Model"
   ]
  },
  {
   "cell_type": "code",
   "execution_count": 24,
   "metadata": {},
   "outputs": [
    {
     "name": "stderr",
     "output_type": "stream",
     "text": [
      "C:\\Users\\Yesim Kebabcı\\AppData\\Local\\Programs\\Python\\Python39\\lib\\site-packages\\lightfm\\_lightfm_fast.py:9: UserWarning: LightFM was compiled without OpenMP support. Only a single thread will be used.\n",
      "  warnings.warn(\n"
     ]
    }
   ],
   "source": [
    "from lightfm import LightFM\n",
    "from lightfm.data import Dataset"
   ]
  },
  {
   "cell_type": "code",
   "execution_count": 25,
   "metadata": {},
   "outputs": [],
   "source": [
    "def generate_feature_list(dataframe, features_name):\n",
    "    features = dataframe[features_name].apply(\n",
    "        lambda x: ','.join(x.map(str)), axis=1)\n",
    "    features = features.str.split(',')\n",
    "    features = features.apply(pd.Series).stack().reset_index(drop=True)\n",
    "    return features"
   ]
  },
  {
   "cell_type": "code",
   "execution_count": 26,
   "metadata": {},
   "outputs": [],
   "source": [
    "def create_features(dataframe, features_name, id_col_name):\n",
    "    features = dataframe[features_name].apply(\n",
    "        lambda x: ','.join(x.map(str)), axis=1)\n",
    "    features = features.str.split(',')\n",
    "    features = list(zip(dataframe[id_col_name], features))\n",
    "    return features\n"
   ]
  },
  {
   "cell_type": "code",
   "execution_count": 27,
   "metadata": {},
   "outputs": [],
   "source": [
    "customers['customer_features'] = create_features(customers, [\"club_member_status\", \"fashion_news_frequency\", \"age_group\"], \"numeric_customer_id\")\n",
    "# sample output = (0, [ACTIVE, None, 49.0]) #user id is zero since converted to numeric\n",
    "\n",
    "articles['article_features'] = create_features(articles, [ \"new_product_group\", \"new_colors\", \"department_name\", \"index_group_name\"], \"article_id\")\n",
    "# sample output = (108775015, ['Vest top', 'Garment Upper body', 'Black', 'Jersey Basic', 'Ladieswear'])\n"
   ]
  },
  {
   "cell_type": "code",
   "execution_count": 29,
   "metadata": {},
   "outputs": [],
   "source": [
    "# customer_feature_list = generate_feature_list(customers, [\"club_member_status\", \"fashion_news_frequency\", \"age_group\"])\n",
    "# article_feature_list  = generate_feature_list(articles, [ \"new_product_group\", \"new_colors\", \"department_name\", \"index_group_name\"])"
   ]
  },
  {
   "cell_type": "code",
   "execution_count": 30,
   "metadata": {},
   "outputs": [],
   "source": [
    "# np.save(\"customer_ftr_list.npy\", customer_feature_list)\n",
    "# np.save(\"article_ftr_list.npy\", article_feature_list)"
   ]
  },
  {
   "cell_type": "code",
   "execution_count": 31,
   "metadata": {},
   "outputs": [],
   "source": [
    "customer_feature_list = np.load('customer_ftr_list.npy',allow_pickle=True)\n",
    "article_feature_list = np.load('article_ftr_list.npy', allow_pickle=True)"
   ]
  },
  {
   "cell_type": "code",
   "execution_count": 32,
   "metadata": {},
   "outputs": [
    {
     "name": "stdout",
     "output_type": "stream",
     "text": [
      "['ACTIVE' 'None' '46-65' ... 'PRE-CREATE' 'None' '46-65']\n"
     ]
    }
   ],
   "source": [
    "len(customer_feature_list)\n",
    "print(customer_feature_list)"
   ]
  },
  {
   "cell_type": "code",
   "execution_count": 33,
   "metadata": {},
   "outputs": [],
   "source": [
    "df = pd.DataFrame(article_feature_list)"
   ]
  },
  {
   "cell_type": "code",
   "execution_count": 34,
   "metadata": {},
   "outputs": [],
   "source": [
    "dataset = Dataset()\n",
    "\n",
    "dataset.fit(\n",
    "    set(customers['numeric_customer_id']), \n",
    "    set(articles['article_id']),\n",
    "    item_features=article_feature_list, \n",
    "    user_features=customer_feature_list)"
   ]
  },
  {
   "cell_type": "code",
   "execution_count": 37,
   "metadata": {},
   "outputs": [],
   "source": [
    "df_merge['num_item_per_user'] = df_merge.groupby(['customer_id'])['article_id'].transform('count')\n",
    "# df_merge['num_trans_per_item'] = df_merge.groupby(['article_id'])['transaction_id'].transform('count')"
   ]
  },
  {
   "cell_type": "code",
   "execution_count": 39,
   "metadata": {},
   "outputs": [],
   "source": [
    "# calculate our weight value \n",
    "# df_merge['total_weights'] = 1 / (\n",
    "#     df_merge['num_item_per_user'])\n",
    "# df_merge['customer_item_tuple'] = list(zip(\n",
    "#     df_merge.numeric_customer_id, df_merge.article_id, df_merge.total_weights))"
   ]
  },
  {
   "cell_type": "code",
   "execution_count": 40,
   "metadata": {},
   "outputs": [],
   "source": [
    "df_merge = df_merge.dropna()\n",
    "\n",
    "df_merge['customer_item_tuple'] = list(zip(\n",
    "    df_merge.numeric_customer_id, df_merge.article_id))\n",
    "\n",
    "interactions, weights = dataset.build_interactions(\n",
    "      df_merge['customer_item_tuple'])\n"
   ]
  },
  {
   "cell_type": "code",
   "execution_count": 41,
   "metadata": {},
   "outputs": [
    {
     "data": {
      "text/plain": [
       "0                 (0, 625548001.0)\n",
       "1                 (0, 176209023.0)\n",
       "2                 (0, 627759010.0)\n",
       "3                 (0, 697138006.0)\n",
       "4                 (0, 568601006.0)\n",
       "                     ...          \n",
       "31798018    (1371978, 866755002.0)\n",
       "31798019    (1371978, 840360003.0)\n",
       "31798020    (1371978, 866755002.0)\n",
       "31798021    (1371978, 882810001.0)\n",
       "31798022    (1371979, 806050001.0)\n",
       "Name: customer_item_tuple, Length: 31110542, dtype: object"
      ]
     },
     "execution_count": 41,
     "metadata": {},
     "output_type": "execute_result"
    }
   ],
   "source": [
    "df_merge['customer_item_tuple']"
   ]
  },
  {
   "cell_type": "code",
   "execution_count": 42,
   "metadata": {},
   "outputs": [],
   "source": [
    "# interaction and weights matrix succesfully built\n",
    "# sample interaction output = \n",
    "# matrix([[0, 0, 0, ..., 0, 0, 0],\n",
    "#         [0, 0, 0, ..., 0, 0, 0],\n",
    "#         [0, 0, 0, ..., 0, 0, 0]], dtype=int32)"
   ]
  },
  {
   "cell_type": "code",
   "execution_count": 43,
   "metadata": {},
   "outputs": [],
   "source": [
    "# interaction and weights matrix succesfully built\n",
    "# sample weights output (for default weights) = \n",
    "# matrix([[0, 0, 0, ..., 0, 0, 0],\n",
    "#         [0, 0, 0, ..., 0, 0, 0],\n",
    "#         [0, 0, 0, ..., 0, 0, 0]], dtype=int32)"
   ]
  },
  {
   "cell_type": "code",
   "execution_count": 46,
   "metadata": {},
   "outputs": [],
   "source": [
    "customers_features = dataset.build_user_features(\n",
    "    customers['customer_features'])\n",
    "\n",
    "articles_features = dataset.build_item_features(\n",
    "    articles['article_features'])"
   ]
  },
  {
   "cell_type": "code",
   "execution_count": 48,
   "metadata": {},
   "outputs": [
    {
     "data": {
      "text/plain": [
       "(array([0, 0, 0, 0]), array([      0, 1371980, 1371981, 1371982]))"
      ]
     },
     "execution_count": 48,
     "metadata": {},
     "output_type": "execute_result"
    }
   ],
   "source": [
    "customers_features.tocsr()[0,:].nonzero()"
   ]
  },
  {
   "cell_type": "code",
   "execution_count": 49,
   "metadata": {},
   "outputs": [
    {
     "data": {
      "text/plain": [
       "matrix([[0.2, 0. , 0. , ..., 0. , 0. , 0. ],\n",
       "        [0. , 0. , 0. , ..., 0. , 0. , 0. ]], dtype=float32)"
      ]
     },
     "execution_count": 49,
     "metadata": {},
     "output_type": "execute_result"
    }
   ],
   "source": [
    "from scipy import sparse\n",
    "articles_features.tocsr()[[0,6],:].todense()\n",
    "# articles_features.todense()"
   ]
  },
  {
   "cell_type": "code",
   "execution_count": 52,
   "metadata": {},
   "outputs": [],
   "source": [
    "from lightfm.cross_validation import random_train_test_split\n",
    "# from sklearn.model_selection import train_test_split\n",
    "\n",
    "# To split a sample_weight matrix along the same lines, pass it into this function with the same random_state seed \n",
    "# as was used for splitting the interactions.\n",
    "\n",
    "(train, test) = random_train_test_split(interactions=interactions, test_percentage=0.1, random_state=42)\n",
    "(train_weight, test_weight) = random_train_test_split(interactions=weights, test_percentage=0.1, random_state=42)"
   ]
  },
  {
   "cell_type": "code",
   "execution_count": 54,
   "metadata": {},
   "outputs": [
    {
     "name": "stderr",
     "output_type": "stream",
     "text": [
      "Epoch: 100%|██████████| 50/50 [4:29:21<00:00, 323.24s/it]  \n"
     ]
    },
    {
     "data": {
      "text/plain": [
       "<lightfm.lightfm.LightFM at 0x2312732a9d0>"
      ]
     },
     "execution_count": 54,
     "metadata": {},
     "output_type": "execute_result"
    }
   ],
   "source": [
    "model = LightFM(\n",
    "    item_alpha=0.000001,\n",
    "    loss='warp',\n",
    "    #Weighted Approximate-Rank Pairwise loss\n",
    "    random_state=2022\n",
    ")\n",
    "\n",
    "model.fit(\n",
    "    train,\n",
    "    item_features=articles_features,\n",
    "    user_features=customers_features, \n",
    "    sample_weight=train_weight,\n",
    "    epochs=50,\n",
    "    num_threads=4, \n",
    "    verbose=True\n",
    "    \n",
    "    )"
   ]
  },
  {
   "cell_type": "code",
   "execution_count": 55,
   "metadata": {},
   "outputs": [],
   "source": [
    "from lightfm.evaluation import auc_score"
   ]
  },
  {
   "cell_type": "code",
   "execution_count": 62,
   "metadata": {},
   "outputs": [],
   "source": [
    "test_score= auc_score(model, test,item_features=articles_features,user_features = customers_features, num_threads=4).mean()"
   ]
  },
  {
   "cell_type": "code",
   "execution_count": 63,
   "metadata": {},
   "outputs": [
    {
     "data": {
      "text/plain": [
       "0.918429"
      ]
     },
     "execution_count": 63,
     "metadata": {},
     "output_type": "execute_result"
    }
   ],
   "source": [
    "test_score"
   ]
  },
  {
   "cell_type": "markdown",
   "metadata": {},
   "source": [
    "### Pure CF LightFM Model "
   ]
  },
  {
   "cell_type": "code",
   "execution_count": 103,
   "metadata": {},
   "outputs": [
    {
     "name": "stderr",
     "output_type": "stream",
     "text": [
      "Epoch: 100%|██████████| 50/50 [1:59:41<00:00, 143.62s/it]\n"
     ]
    }
   ],
   "source": [
    "model_CF = LightFM(loss='warp',\n",
    "                item_alpha=0.000001,\n",
    "               )\n",
    "model_CF = model_CF.fit(train, epochs=50, num_threads=4, verbose=True)"
   ]
  },
  {
   "cell_type": "code",
   "execution_count": 106,
   "metadata": {},
   "outputs": [],
   "source": [
    "test_score_CF= auc_score(model_CF, test, num_threads=4).mean()"
   ]
  },
  {
   "cell_type": "code",
   "execution_count": 107,
   "metadata": {},
   "outputs": [
    {
     "data": {
      "text/plain": [
       "0.9369683"
      ]
     },
     "execution_count": 107,
     "metadata": {},
     "output_type": "execute_result"
    }
   ],
   "source": [
    "test_score_CF"
   ]
  },
  {
   "cell_type": "code",
   "execution_count": 232,
   "metadata": {},
   "outputs": [],
   "source": [
    "predictions_CF = model_CF.predict(  \n",
    "    589888, \n",
    "    interactions.col)\n"
   ]
  },
  {
   "cell_type": "code",
   "execution_count": 165,
   "metadata": {},
   "outputs": [
    {
     "data": {
      "text/plain": [
       "array([-3.286026  , -3.5258942 , -3.6225402 , ..., -0.62545013,\n",
       "       -3.647044  , -2.2237856 ], dtype=float32)"
      ]
     },
     "execution_count": 165,
     "metadata": {},
     "output_type": "execute_result"
    }
   ],
   "source": [
    "predictions_CF"
   ]
  },
  {
   "cell_type": "code",
   "execution_count": 125,
   "metadata": {},
   "outputs": [
    {
     "data": {
      "text/plain": [
       "-6.7427354"
      ]
     },
     "execution_count": 125,
     "metadata": {},
     "output_type": "execute_result"
    }
   ],
   "source": [
    "predictions_CF.min()"
   ]
  },
  {
   "cell_type": "code",
   "execution_count": 203,
   "metadata": {},
   "outputs": [
    {
     "data": {
      "text/plain": [
       "2.2422965"
      ]
     },
     "execution_count": 203,
     "metadata": {},
     "output_type": "execute_result"
    }
   ],
   "source": [
    "predictions_CF.max()"
   ]
  },
  {
   "cell_type": "code",
   "execution_count": 220,
   "metadata": {},
   "outputs": [],
   "source": [
    "recommended_item =  np.where(predictions_CF == predictions_CF.max())"
   ]
  },
  {
   "cell_type": "code",
   "execution_count": 219,
   "metadata": {},
   "outputs": [
    {
     "data": {
      "text/plain": [
       "(array([     381,      433,     1977, ..., 31108650, 31109220, 31109481],\n",
       "       dtype=int64),)"
      ]
     },
     "execution_count": 219,
     "metadata": {},
     "output_type": "execute_result"
    }
   ],
   "source": [
    "recommended_item"
   ]
  },
  {
   "cell_type": "code",
   "execution_count": 221,
   "metadata": {},
   "outputs": [
    {
     "name": "stdout",
     "output_type": "stream",
     "text": [
      "User 589888 is recommended to buy Cap Paco Solid CO , AOP Leggings and Washed Leather belt .\n"
     ]
    }
   ],
   "source": [
    "print(\"User 589888 is recommended to buy\", articles.iloc[381].prod_name,\",\", articles.iloc[433].prod_name, \"and\", articles.iloc[1977].prod_name, \".\")"
   ]
  }
 ],
 "metadata": {
  "interpreter": {
   "hash": "a0b2fe5033c97dad4877abb7b5e423b326250cb0067c592ea69e41c8c6a4ee4c"
  },
  "kernelspec": {
   "display_name": "Python 3.9.0 64-bit (system)",
   "language": "python",
   "name": "python3"
  },
  "language_info": {
   "codemirror_mode": {
    "name": "ipython",
    "version": 3
   },
   "file_extension": ".py",
   "mimetype": "text/x-python",
   "name": "python",
   "nbconvert_exporter": "python",
   "pygments_lexer": "ipython3",
   "version": "3.9.0"
  },
  "orig_nbformat": 4
 },
 "nbformat": 4,
 "nbformat_minor": 2
}
